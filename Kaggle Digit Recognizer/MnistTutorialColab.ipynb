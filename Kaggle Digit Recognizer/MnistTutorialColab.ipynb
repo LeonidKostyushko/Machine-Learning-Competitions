{
 "cells": [
  {
   "cell_type": "code",
   "execution_count": 42,
   "metadata": {
    "colab": {},
    "colab_type": "code",
    "id": "9ls1PCesEx4o"
   },
   "outputs": [],
   "source": [
    "import os\n",
    "import numpy as np\n",
    "import pandas as pd\n",
    "import matplotlib.pyplot as plt\n",
    "from tqdm import tqdm\n",
    "\n",
    "from sklearn.model_selection import train_test_split\n",
    "\n",
    "import torch as t\n",
    "from torch.utils import data\n",
    "from torchvision import transforms as tsf\n",
    "import torchvision.transforms.functional as F\n",
    "\n",
    "import scipy.misc\n",
    "\n",
    "from pathlib import Path\n",
    "\n",
    "from PIL import Image\n",
    "import skimage\n",
    "from skimage import io\n",
    "from skimage import transform\n",
    "import PIL\n",
    "\n",
    "from torch.utils.data import DataLoader\n",
    "from sklearn.model_selection import train_test_split\n",
    "import sys\n",
    "#import elasticdeform\n",
    "import matplotlib.image as mpimg\n",
    "import random\n",
    "from torch.nn import CrossEntropyLoss, Sequential, Linear\n",
    "\n",
    "from torch.autograd import Variable\n",
    "import imageio\n",
    "import cv2\n",
    "from skimage import exposure\n",
    "\n",
    "from IPython.display import clear_output\n",
    "%matplotlib inline"
   ]
  },
  {
   "cell_type": "code",
   "execution_count": 2,
   "metadata": {
    "colab": {
     "base_uri": "https://localhost:8080/",
     "height": 121
    },
    "colab_type": "code",
    "executionInfo": {
     "elapsed": 34579,
     "status": "ok",
     "timestamp": 1585068091918,
     "user": {
      "displayName": "Леонид Костюшко",
      "photoUrl": "",
      "userId": "01087058282629073637"
     },
     "user_tz": -180
    },
    "id": "4J1sScb_F2jx",
    "outputId": "6dad44a3-677d-4937-89ef-b62d39504f2e"
   },
   "outputs": [
    {
     "name": "stdout",
     "output_type": "stream",
     "text": [
      "Go to this URL in a browser: https://accounts.google.com/o/oauth2/auth?client_id=947318989803-6bn6qk8qdgf4n4g3pfee6491hc0brc4i.apps.googleusercontent.com&redirect_uri=urn%3aietf%3awg%3aoauth%3a2.0%3aoob&response_type=code&scope=email%20https%3a%2f%2fwww.googleapis.com%2fauth%2fdocs.test%20https%3a%2f%2fwww.googleapis.com%2fauth%2fdrive%20https%3a%2f%2fwww.googleapis.com%2fauth%2fdrive.photos.readonly%20https%3a%2f%2fwww.googleapis.com%2fauth%2fpeopleapi.readonly\n",
      "\n",
      "Enter your authorization code:\n",
      "··········\n",
      "Mounted at /content/drive\n"
     ]
    }
   ],
   "source": [
    "from google.colab import drive\n",
    "drive.mount('/content/drive')"
   ]
  },
  {
   "cell_type": "markdown",
   "metadata": {
    "colab_type": "text",
    "id": "MgPTS9qQEx4x"
   },
   "source": [
    "### Preprocess"
   ]
  },
  {
   "cell_type": "code",
   "execution_count": 43,
   "metadata": {
    "colab": {},
    "colab_type": "code",
    "id": "3Zj6jezCEx4z"
   },
   "outputs": [],
   "source": [
    "train_df = pd.read_csv('mnist_train.csv')\n",
    "test_df = pd.read_csv('mnist_test.csv')"
   ]
  },
  {
   "cell_type": "code",
   "execution_count": 44,
   "metadata": {
    "colab": {
     "base_uri": "https://localhost:8080/",
     "height": 0
    },
    "colab_type": "code",
    "executionInfo": {
     "elapsed": 8777,
     "status": "ok",
     "timestamp": 1585068098295,
     "user": {
      "displayName": "Леонид Костюшко",
      "photoUrl": "",
      "userId": "01087058282629073637"
     },
     "user_tz": -180
    },
    "id": "CfVGygxeEx46",
    "outputId": "a12347a1-203d-46a8-fd77-9386be000d55"
   },
   "outputs": [
    {
     "data": {
      "text/html": [
       "<div>\n",
       "<style scoped>\n",
       "    .dataframe tbody tr th:only-of-type {\n",
       "        vertical-align: middle;\n",
       "    }\n",
       "\n",
       "    .dataframe tbody tr th {\n",
       "        vertical-align: top;\n",
       "    }\n",
       "\n",
       "    .dataframe thead th {\n",
       "        text-align: right;\n",
       "    }\n",
       "</style>\n",
       "<table border=\"1\" class=\"dataframe\">\n",
       "  <thead>\n",
       "    <tr style=\"text-align: right;\">\n",
       "      <th></th>\n",
       "      <th>label</th>\n",
       "      <th>pixel0</th>\n",
       "      <th>pixel1</th>\n",
       "      <th>pixel2</th>\n",
       "      <th>pixel3</th>\n",
       "      <th>pixel4</th>\n",
       "      <th>pixel5</th>\n",
       "      <th>pixel6</th>\n",
       "      <th>pixel7</th>\n",
       "      <th>pixel8</th>\n",
       "      <th>...</th>\n",
       "      <th>pixel774</th>\n",
       "      <th>pixel775</th>\n",
       "      <th>pixel776</th>\n",
       "      <th>pixel777</th>\n",
       "      <th>pixel778</th>\n",
       "      <th>pixel779</th>\n",
       "      <th>pixel780</th>\n",
       "      <th>pixel781</th>\n",
       "      <th>pixel782</th>\n",
       "      <th>pixel783</th>\n",
       "    </tr>\n",
       "  </thead>\n",
       "  <tbody>\n",
       "    <tr>\n",
       "      <th>0</th>\n",
       "      <td>1</td>\n",
       "      <td>0</td>\n",
       "      <td>0</td>\n",
       "      <td>0</td>\n",
       "      <td>0</td>\n",
       "      <td>0</td>\n",
       "      <td>0</td>\n",
       "      <td>0</td>\n",
       "      <td>0</td>\n",
       "      <td>0</td>\n",
       "      <td>...</td>\n",
       "      <td>0</td>\n",
       "      <td>0</td>\n",
       "      <td>0</td>\n",
       "      <td>0</td>\n",
       "      <td>0</td>\n",
       "      <td>0</td>\n",
       "      <td>0</td>\n",
       "      <td>0</td>\n",
       "      <td>0</td>\n",
       "      <td>0</td>\n",
       "    </tr>\n",
       "    <tr>\n",
       "      <th>1</th>\n",
       "      <td>0</td>\n",
       "      <td>0</td>\n",
       "      <td>0</td>\n",
       "      <td>0</td>\n",
       "      <td>0</td>\n",
       "      <td>0</td>\n",
       "      <td>0</td>\n",
       "      <td>0</td>\n",
       "      <td>0</td>\n",
       "      <td>0</td>\n",
       "      <td>...</td>\n",
       "      <td>0</td>\n",
       "      <td>0</td>\n",
       "      <td>0</td>\n",
       "      <td>0</td>\n",
       "      <td>0</td>\n",
       "      <td>0</td>\n",
       "      <td>0</td>\n",
       "      <td>0</td>\n",
       "      <td>0</td>\n",
       "      <td>0</td>\n",
       "    </tr>\n",
       "    <tr>\n",
       "      <th>2</th>\n",
       "      <td>1</td>\n",
       "      <td>0</td>\n",
       "      <td>0</td>\n",
       "      <td>0</td>\n",
       "      <td>0</td>\n",
       "      <td>0</td>\n",
       "      <td>0</td>\n",
       "      <td>0</td>\n",
       "      <td>0</td>\n",
       "      <td>0</td>\n",
       "      <td>...</td>\n",
       "      <td>0</td>\n",
       "      <td>0</td>\n",
       "      <td>0</td>\n",
       "      <td>0</td>\n",
       "      <td>0</td>\n",
       "      <td>0</td>\n",
       "      <td>0</td>\n",
       "      <td>0</td>\n",
       "      <td>0</td>\n",
       "      <td>0</td>\n",
       "    </tr>\n",
       "    <tr>\n",
       "      <th>3</th>\n",
       "      <td>4</td>\n",
       "      <td>0</td>\n",
       "      <td>0</td>\n",
       "      <td>0</td>\n",
       "      <td>0</td>\n",
       "      <td>0</td>\n",
       "      <td>0</td>\n",
       "      <td>0</td>\n",
       "      <td>0</td>\n",
       "      <td>0</td>\n",
       "      <td>...</td>\n",
       "      <td>0</td>\n",
       "      <td>0</td>\n",
       "      <td>0</td>\n",
       "      <td>0</td>\n",
       "      <td>0</td>\n",
       "      <td>0</td>\n",
       "      <td>0</td>\n",
       "      <td>0</td>\n",
       "      <td>0</td>\n",
       "      <td>0</td>\n",
       "    </tr>\n",
       "    <tr>\n",
       "      <th>4</th>\n",
       "      <td>0</td>\n",
       "      <td>0</td>\n",
       "      <td>0</td>\n",
       "      <td>0</td>\n",
       "      <td>0</td>\n",
       "      <td>0</td>\n",
       "      <td>0</td>\n",
       "      <td>0</td>\n",
       "      <td>0</td>\n",
       "      <td>0</td>\n",
       "      <td>...</td>\n",
       "      <td>0</td>\n",
       "      <td>0</td>\n",
       "      <td>0</td>\n",
       "      <td>0</td>\n",
       "      <td>0</td>\n",
       "      <td>0</td>\n",
       "      <td>0</td>\n",
       "      <td>0</td>\n",
       "      <td>0</td>\n",
       "      <td>0</td>\n",
       "    </tr>\n",
       "  </tbody>\n",
       "</table>\n",
       "<p>5 rows × 785 columns</p>\n",
       "</div>"
      ],
      "text/plain": [
       "   label  pixel0  pixel1  pixel2  pixel3  pixel4  pixel5  pixel6  pixel7  \\\n",
       "0      1       0       0       0       0       0       0       0       0   \n",
       "1      0       0       0       0       0       0       0       0       0   \n",
       "2      1       0       0       0       0       0       0       0       0   \n",
       "3      4       0       0       0       0       0       0       0       0   \n",
       "4      0       0       0       0       0       0       0       0       0   \n",
       "\n",
       "   pixel8    ...     pixel774  pixel775  pixel776  pixel777  pixel778  \\\n",
       "0       0    ...            0         0         0         0         0   \n",
       "1       0    ...            0         0         0         0         0   \n",
       "2       0    ...            0         0         0         0         0   \n",
       "3       0    ...            0         0         0         0         0   \n",
       "4       0    ...            0         0         0         0         0   \n",
       "\n",
       "   pixel779  pixel780  pixel781  pixel782  pixel783  \n",
       "0         0         0         0         0         0  \n",
       "1         0         0         0         0         0  \n",
       "2         0         0         0         0         0  \n",
       "3         0         0         0         0         0  \n",
       "4         0         0         0         0         0  \n",
       "\n",
       "[5 rows x 785 columns]"
      ]
     },
     "execution_count": 44,
     "metadata": {},
     "output_type": "execute_result"
    }
   ],
   "source": [
    "train_df.head()"
   ]
  },
  {
   "cell_type": "code",
   "execution_count": 45,
   "metadata": {
    "colab": {},
    "colab_type": "code",
    "id": "vvsHsz8xEx5D"
   },
   "outputs": [],
   "source": [
    "def process(data_df, test = None):\n",
    "    data = []\n",
    "    \n",
    "    for i in range(data_df.shape[0]):\n",
    "        item = {}\n",
    "        \n",
    "        row_list = np.array(train_df.iloc[i, 1:])\n",
    "        img = np.reshape(row_list, (28, 28))\n",
    "        img = np.expand_dims(img, axis=2)\n",
    "        \n",
    "        item['Image'] = t.from_numpy(img)\n",
    "        \n",
    "        if test == None:\n",
    "            item['Class'] = train_df.iloc[i, 0]\n",
    "        \n",
    "        data.append(item)\n",
    "    \n",
    "    return data\n",
    "  "
   ]
  },
  {
   "cell_type": "code",
   "execution_count": 46,
   "metadata": {
    "colab": {},
    "colab_type": "code",
    "id": "GmbTRkdvEx5K"
   },
   "outputs": [],
   "source": [
    "train_data = process(train_df)\n",
    "test_data = process(test_df, True)"
   ]
  },
  {
   "cell_type": "code",
   "execution_count": 47,
   "metadata": {
    "colab": {
     "base_uri": "https://localhost:8080/",
     "height": 0
    },
    "colab_type": "code",
    "executionInfo": {
     "elapsed": 32617,
     "status": "ok",
     "timestamp": 1585068136015,
     "user": {
      "displayName": "Леонид Костюшко",
      "photoUrl": "",
      "userId": "01087058282629073637"
     },
     "user_tz": -180
    },
    "id": "tFl7lkSua_7V",
    "outputId": "f74fc842-2349-4eac-eb2c-ccb2b1ebdfda"
   },
   "outputs": [
    {
     "data": {
      "text/plain": [
       "<matplotlib.image.AxesImage at 0x1e3ff405e48>"
      ]
     },
     "execution_count": 47,
     "metadata": {},
     "output_type": "execute_result"
    },
    {
     "data": {
      "image/png": "[encoded data removed]",
      "text/plain": [
       "<Figure size 432x288 with 1 Axes>"
      ]
     },
     "metadata": {
      "needs_background": "light"
     },
     "output_type": "display_data"
    }
   ],
   "source": [
    "plt.imshow(test_data[27997]['Image'].squeeze(2).numpy())"
   ]
  },
  {
   "cell_type": "code",
   "execution_count": 48,
   "metadata": {
    "colab": {
     "base_uri": "https://localhost:8080/",
     "height": 0
    },
    "colab_type": "code",
    "executionInfo": {
     "elapsed": 29923,
     "status": "ok",
     "timestamp": 1585068136269,
     "user": {
      "displayName": "Леонид Костюшко",
      "photoUrl": "",
      "userId": "01087058282629073637"
     },
     "user_tz": -180
    },
    "id": "3XAoieh4Ex5T",
    "outputId": "967014da-1059-480b-801a-936c8fc2939c"
   },
   "outputs": [
    {
     "data": {
      "text/plain": [
       "<matplotlib.image.AxesImage at 0x1e3fdd6d978>"
      ]
     },
     "execution_count": 48,
     "metadata": {},
     "output_type": "execute_result"
    },
    {
     "data": {
      "image/png": "[encoded data removed]",
      "text/plain": [
       "<Figure size 432x288 with 1 Axes>"
      ]
     },
     "metadata": {
      "needs_background": "light"
     },
     "output_type": "display_data"
    }
   ],
   "source": [
    "plt.imshow(train_data[4]['Image'].squeeze(2).numpy())"
   ]
  },
  {
   "cell_type": "markdown",
   "metadata": {
    "colab_type": "text",
    "id": "K14NSCxYEx5X"
   },
   "source": [
    "### Data transformations"
   ]
  },
  {
   "cell_type": "code",
   "execution_count": 49,
   "metadata": {
    "colab": {},
    "colab_type": "code",
    "id": "raYwg0blEx5Y"
   },
   "outputs": [],
   "source": [
    "class Dataset():\n",
    "    def __init__(self, data, source_transform):\n",
    "        self.datas = data\n",
    "        self.s_trans = source_transform\n",
    "        self.to_pil = tsf.ToPILImage()\n",
    "        self.to_tens = tsf.ToTensor()\n",
    "        \n",
    "    def __getitem__(self, index):\n",
    "        data = self.datas[index]\n",
    "        \n",
    "        img = data['Image'].numpy()\n",
    "        label = data['Class']\n",
    "        \n",
    "        #img = self.to_pil(img)\n",
    "        \n",
    "        img = self.s_trans(img)\n",
    "        \n",
    "#         img = self.to_tens(img)\n",
    "#         img = self.norm(img)\n",
    "        \n",
    "        return img, label\n",
    "    \n",
    "    def __len__(self):\n",
    "        return len(self.datas)\n",
    "    \n",
    "s_trans = tsf.Compose([\n",
    "    tsf.ToTensor(),\n",
    "   # tsf.Normalize(mean = [0.5],std = [0.5])\n",
    "]\n",
    ")"
   ]
  },
  {
   "cell_type": "code",
   "execution_count": 50,
   "metadata": {
    "colab": {},
    "colab_type": "code",
    "id": "7F5s6UiHEx5c"
   },
   "outputs": [],
   "source": [
    "full_dataset = Dataset(train_data, s_trans)"
   ]
  },
  {
   "cell_type": "code",
   "execution_count": 51,
   "metadata": {
    "colab": {
     "base_uri": "https://localhost:8080/",
     "height": 298
    },
    "colab_type": "code",
    "executionInfo": {
     "elapsed": 1593,
     "status": "ok",
     "timestamp": 1584990149627,
     "user": {
      "displayName": "Леонид Костюшко",
      "photoUrl": "",
      "userId": "01087058282629073637"
     },
     "user_tz": -180
    },
    "id": "kgL1NL9PEx5f",
    "outputId": "bf7ae364-ec74-4bd0-bb21-f57d33f477fc"
   },
   "outputs": [
    {
     "name": "stdout",
     "output_type": "stream",
     "text": [
      "Image shape:  torch.Size([1, 28, 28])\n",
      "Data size:  42000\n"
     ]
    },
    {
     "data": {
      "image/png": "[encoded data removed]",
      "text/plain": [
       "<Figure size 432x288 with 1 Axes>"
      ]
     },
     "metadata": {
      "needs_background": "light"
     },
     "output_type": "display_data"
    }
   ],
   "source": [
    "plt.imshow(full_dataset[4][0].squeeze(0).numpy())\n",
    "print(\"Image shape: \", full_dataset[4][0].shape)\n",
    "print(\"Data size: \", len(full_dataset))"
   ]
  },
  {
   "cell_type": "markdown",
   "metadata": {
    "colab_type": "text",
    "id": "gT_RnAEuEx5l"
   },
   "source": [
    "### Validation"
   ]
  },
  {
   "cell_type": "code",
   "execution_count": 52,
   "metadata": {
    "colab": {
     "base_uri": "https://localhost:8080/",
     "height": 0
    },
    "colab_type": "code",
    "executionInfo": {
     "elapsed": 932,
     "status": "ok",
     "timestamp": 1585068146650,
     "user": {
      "displayName": "Леонид Костюшко",
      "photoUrl": "",
      "userId": "01087058282629073637"
     },
     "user_tz": -180
    },
    "id": "3LZIDESaEx5n",
    "outputId": "9da71ab2-6b76-4b67-a8d4-c2aa37feb1db"
   },
   "outputs": [
    {
     "name": "stdout",
     "output_type": "stream",
     "text": [
      "38000\n",
      "4000\n"
     ]
    }
   ],
   "source": [
    "train1 = []\n",
    "test1 = []\n",
    "for i in range(0, len(full_dataset)):\n",
    "    if i < 38000:\n",
    "        train1.append(full_dataset[i])\n",
    "    else:\n",
    "        test1.append(full_dataset[i])\n",
    "print(len(train1))\n",
    "print(len(test1))"
   ]
  },
  {
   "cell_type": "code",
   "execution_count": 53,
   "metadata": {
    "colab": {},
    "colab_type": "code",
    "id": "O5oOf9-LEx5r"
   },
   "outputs": [],
   "source": [
    "train_dataloader = DataLoader(train1, batch_size=4, shuffle=False)\n",
    "test_dataloader = DataLoader(test1, batch_size=4)"
   ]
  },
  {
   "cell_type": "markdown",
   "metadata": {
    "colab_type": "text",
    "id": "SUhUoKT6Ex5v"
   },
   "source": [
    "### Train"
   ]
  },
  {
   "cell_type": "code",
   "execution_count": 54,
   "metadata": {
    "colab": {},
    "colab_type": "code",
    "id": "KM3w5HVHEx5x"
   },
   "outputs": [],
   "source": [
    "dtype=t.FloatTensor\n",
    "\n",
    "def train(network, epochs, learning_rate, loss=t.nn.CrossEntropyLoss(), optim=t.optim.Adam, use_cuda=False):\n",
    "    train_loss_epochs = []\n",
    "    test_loss_epochs = []\n",
    "    \n",
    "    train_accuracy_epochs = []\n",
    "    test_accuracy_epochs = []\n",
    "    \n",
    "    optimizer = optim(network.parameters(), learning_rate)\n",
    "    \n",
    "    for epoch in range(epochs):\n",
    "        current_loss = []\n",
    "        current_accuracy = []\n",
    "\n",
    "        for sample in train_dataloader:\n",
    "\n",
    "            X = sample[0]\n",
    "            X = X.type(dtype)\n",
    "            y = sample[1]\n",
    "            \n",
    "            #X = X.view(X.size(0), -1)\n",
    "            \n",
    "            if use_cuda:\n",
    "                X = X.cuda()\n",
    "                y = y.cuda()\n",
    "            \n",
    "            optimizer.zero_grad()\n",
    "            prediction = network(X)\n",
    "            \n",
    "            loss_batch = loss(prediction, y)\n",
    "            \n",
    "            loss_batch.backward()\n",
    "            optimizer.step()\n",
    "\n",
    "            current_loss.append(loss_batch.item())\n",
    "            current_accuracy.append((prediction.argmax(dim=1) == y).float().mean().item())\n",
    "        \n",
    "        train_loss_epochs.append(np.mean(current_loss))\n",
    "        train_accuracy_epochs.append(np.mean(current_accuracy))\n",
    "        \n",
    "        \n",
    "        \n",
    "        current_loss = []\n",
    "        current_accuracy = []\n",
    "        for sample in test_dataloader:\n",
    "\n",
    "            X = sample[0]\n",
    "            X = X.type(dtype)\n",
    "            y = sample[1]\n",
    "            \n",
    "            #X = X.view(X.size(0), -1)\n",
    "            \n",
    "            if use_cuda:\n",
    "                X = X.cuda()\n",
    "                y = y.cuda()\n",
    "            \n",
    "            prediction = network(X)\n",
    "            \n",
    "            loss_batch = loss(prediction, y)\n",
    "\n",
    "            current_loss.append(loss_batch.item())            \n",
    "            current_accuracy.append((prediction.argmax(dim=1) == y).float().mean().item())\n",
    "        \n",
    "        test_loss_epochs.append(np.mean(current_loss))\n",
    "        test_accuracy_epochs.append(np.mean(current_accuracy))\n",
    "        \n",
    "        \n",
    "        clear_output(True)\n",
    "        \n",
    "        sys.stdout.write('\\rEpoch {0}... (Train/Test) Loss: {1:.3f}/{2:.3f}\\tAccuracy: {3:.3f}/{4:.3f}'.format(\n",
    "                    epoch, train_loss_epochs[-1], test_loss_epochs[-1],\n",
    "                    train_accuracy_epochs[-1], test_accuracy_epochs[-1]))\n",
    "       \n",
    "        plt.figure(figsize=(12, 5))\n",
    "        plt.subplot(1, 2, 1)\n",
    "        plt.plot(train_loss_epochs, label='Train')\n",
    "        plt.plot(test_loss_epochs, label='Test')\n",
    "        plt.xlabel('Epochs', fontsize=16)\n",
    "        plt.ylabel('Loss', fontsize=16)\n",
    "        plt.legend(loc=0, fontsize=16)\n",
    "        plt.grid('on')\n",
    "        plt.subplot(1, 2, 2)\n",
    "        plt.plot(train_accuracy_epochs, label='Train accuracy')\n",
    "        plt.plot(test_accuracy_epochs, label='Test accuracy')\n",
    "        plt.xlabel('Epochs', fontsize=16)\n",
    "        plt.ylabel('Accuracy', fontsize=16)\n",
    "        plt.legend(loc=0, fontsize=16)\n",
    "        plt.grid('on')\n",
    "        plt.show()\n",
    "       "
   ]
  },
  {
   "cell_type": "markdown",
   "metadata": {
    "colab_type": "text",
    "id": "OyRCawumEx53"
   },
   "source": [
    "### Network"
   ]
  },
  {
   "cell_type": "code",
   "execution_count": 55,
   "metadata": {
    "colab": {},
    "colab_type": "code",
    "id": "CEwIDhmMEx54"
   },
   "outputs": [],
   "source": [
    "class Net1(t.nn.Module):\n",
    "    def __init__(self):\n",
    "        super(Net1, self).__init__()\n",
    "        self.conv_layers = t.nn.Sequential(t.nn.Conv2d(1, 16, 3, padding=0), t.nn.ReLU(),\n",
    "                                         t.nn.Conv2d(16, 16, 3, padding=0), t.nn.ReLU(),\n",
    "                                         t.nn.MaxPool2d(2),\n",
    "                                         t.nn.Conv2d(16, 32, 3, padding=0), t.nn.ReLU(),\n",
    "                                         t.nn.Conv2d(32, 32, 3, padding=0), t.nn.ReLU(),\n",
    "                                         t.nn.MaxPool2d(2)\n",
    "                                        )\n",
    "        self.linear_layers = t.nn.Sequential(t.nn.Linear(4*4*32, 10))\n",
    "    def forward(self, x):\n",
    "        out = self.conv_layers(x)\n",
    "        out = out.view(out.size(0), -1)\n",
    "        out = self.linear_layers(out)\n",
    "        \n",
    "        return out"
   ]
  },
  {
   "cell_type": "code",
   "execution_count": 24,
   "metadata": {
    "colab": {},
    "colab_type": "code",
    "id": "hOfWKBQwcVA1"
   },
   "outputs": [],
   "source": [
    "class Net2(t.nn.Module):\n",
    "    def __init__(self):\n",
    "        super(Net2, self).__init__()\n",
    "        self.linear_layers = t.nn.Sequential(t.nn.Linear(784, 100), t.nn.ReLU(), \n",
    "                                             t.nn.Linear(100, 100), t.nn.ReLU(),\n",
    "                                             t.nn.Linear(100, 10)\n",
    "                                              )\n",
    "        self.linear_layers2 = t.nn.Sequential(t.nn.Linear(784, 10))\n",
    "    def forward(self, x):\n",
    "        out = self.linear_layers(x)\n",
    "        \n",
    "        return out"
   ]
  },
  {
   "cell_type": "code",
   "execution_count": 56,
   "metadata": {
    "colab": {},
    "colab_type": "code",
    "id": "ADRmBf0oEx59"
   },
   "outputs": [],
   "source": [
    "use_cuda = False"
   ]
  },
  {
   "cell_type": "code",
   "execution_count": 57,
   "metadata": {
    "colab": {},
    "colab_type": "code",
    "id": "vXqlQhXDi19j"
   },
   "outputs": [],
   "source": [
    "model = Net1()\n"
   ]
  },
  {
   "cell_type": "code",
   "execution_count": 25,
   "metadata": {
    "colab": {},
    "colab_type": "code",
    "id": "5jkVJiR3i4C9"
   },
   "outputs": [],
   "source": [
    "model = Net2()"
   ]
  },
  {
   "cell_type": "code",
   "execution_count": 58,
   "metadata": {
    "colab": {},
    "colab_type": "code",
    "id": "bVM6iLZfenoK"
   },
   "outputs": [],
   "source": [
    "if use_cuda:\n",
    "    model.cuda()"
   ]
  },
  {
   "cell_type": "code",
   "execution_count": 59,
   "metadata": {
    "colab": {
     "base_uri": "https://localhost:8080/",
     "height": 356
    },
    "colab_type": "code",
    "executionInfo": {
     "elapsed": 1644,
     "status": "ok",
     "timestamp": 1585071875565,
     "user": {
      "displayName": "Леонид Костюшко",
      "photoUrl": "",
      "userId": "01087058282629073637"
     },
     "user_tz": -180
    },
    "id": "dGaRjdiZEx6B",
    "outputId": "a679c035-d55d-470e-f1b9-33bca6c0af38"
   },
   "outputs": [
    {
     "name": "stdout",
     "output_type": "stream",
     "text": [
      "\r",
      "Epoch 4... (Train/Test) Loss: 0.350/0.353\tAccuracy: 0.886/0.885"
     ]
    },
    {
     "data": {
      "image/png": "[encoded data removed]",
      "text/plain": [
       "<Figure size 864x360 with 2 Axes>"
      ]
     },
     "metadata": {
      "needs_background": "light"
     },
     "output_type": "display_data"
    }
   ],
   "source": [
    "train(model, 5, 0.01, use_cuda = use_cuda)"
   ]
  },
  {
   "cell_type": "markdown",
   "metadata": {
    "colab_type": "text",
    "id": "WUkFp_RfEx6F"
   },
   "source": [
    "### Errors analysis"
   ]
  },
  {
   "cell_type": "code",
   "execution_count": 0,
   "metadata": {
    "colab": {},
    "colab_type": "code",
    "id": "IHkLhxgFEx6F"
   },
   "outputs": [],
   "source": [
    "wrong_X = []\n",
    "correct_y = []\n",
    "predicted_y = []\n",
    "\n",
    "for sample in test_dataloader:\n",
    "    X = sample[0]\n",
    "    X = X.type(dtype)\n",
    "    y = sample[1]\n",
    "    \n",
    "    if use_cuda:\n",
    "        X = X.cuda()\n",
    "        y = y.cuda()\n",
    "            \n",
    "    prediction = model(X).cpu().detach().numpy()\n",
    "    prediction = np.exp(prediction)\n",
    "    prediction /= prediction.sum(1, keepdims=True)\n",
    "    \n",
    "    for i in range(len(prediction)):\n",
    "        if np.argmax(prediction[i]) != y[i]:\n",
    "            wrong_X.append(X[i])\n",
    "            correct_y.append(y[i])\n",
    "            predicted_y.append(np.argmax(prediction[i]))"
   ]
  },
  {
   "cell_type": "code",
   "execution_count": 41,
   "metadata": {
    "colab": {
     "base_uri": "https://localhost:8080/",
     "height": 0
    },
    "colab_type": "code",
    "executionInfo": {
     "elapsed": 1621,
     "status": "ok",
     "timestamp": 1585070240728,
     "user": {
      "displayName": "Леонид Костюшко",
      "photoUrl": "",
      "userId": "01087058282629073637"
     },
     "user_tz": -180
    },
    "id": "4ZNUQbYdEx6I",
    "outputId": "f3d1d31e-40ed-49d1-d48a-14d0a0b88c90"
   },
   "outputs": [
    {
     "data": {
      "image/png": "[encoded data removed]",
      "text/plain": [
       "<Figure size 720x360 with 21 Axes>"
      ]
     },
     "metadata": {
      "tags": []
     },
     "output_type": "display_data"
    }
   ],
   "source": [
    "plt.figure(figsize=(10, 5))\n",
    "for i in range(21):\n",
    "    plt.subplot(3, 7, i+1)\n",
    "    plt.imshow(wrong_X[i].cpu().numpy().reshape(28, 28), cmap=plt.cm.Greys_r)\n",
    "    plt.title('{}({})'.format(correct_y[i], predicted_y[i]), fontsize=20)\n",
    "    plt.axis('off')"
   ]
  },
  {
   "cell_type": "markdown",
   "metadata": {
    "colab_type": "text",
    "id": "0AMFPXs2Ex6L"
   },
   "source": [
    "### Test evaluation"
   ]
  },
  {
   "cell_type": "code",
   "execution_count": 0,
   "metadata": {
    "colab": {},
    "colab_type": "code",
    "id": "1BDWlWlZEx6M"
   },
   "outputs": [],
   "source": [
    "class Testset():\n",
    "    def __init__(self, data, source_transform):\n",
    "        self.datas = data\n",
    "        self.s_trans = source_transform\n",
    "        self.to_pil = tsf.ToPILImage()\n",
    "        self.to_tens = tsf.ToTensor()\n",
    "        \n",
    "    def __getitem__(self, index):\n",
    "        data = self.datas[index]\n",
    "        \n",
    "        img = data['Image'].numpy()\n",
    "        \n",
    "        img = self.s_trans(img)\n",
    "        \n",
    "        return img\n",
    "    \n",
    "    def __len__(self):\n",
    "        return len(self.datas)\n",
    "    \n",
    "s_trans = tsf.Compose([\n",
    "    tsf.ToTensor()\n",
    "]\n",
    ")"
   ]
  },
  {
   "cell_type": "code",
   "execution_count": 0,
   "metadata": {
    "colab": {},
    "colab_type": "code",
    "id": "uRkptuEUEx6P"
   },
   "outputs": [],
   "source": [
    "test_dataset = Testset(test_data, s_trans)\n",
    "testdataloader = DataLoader(test_dataset, batch_size=1)"
   ]
  },
  {
   "cell_type": "code",
   "execution_count": 0,
   "metadata": {
    "colab": {},
    "colab_type": "code",
    "id": "YtfRSWFxEx6V"
   },
   "outputs": [],
   "source": [
    "submission_df = pd.DataFrame(columns = ['ImageId', 'Label'])"
   ]
  },
  {
   "cell_type": "code",
   "execution_count": 0,
   "metadata": {
    "colab": {},
    "colab_type": "code",
    "id": "jSwhbF2Ke8pl"
   },
   "outputs": [],
   "source": [
    "model = model.eval()"
   ]
  },
  {
   "cell_type": "code",
   "execution_count": 0,
   "metadata": {
    "colab": {},
    "colab_type": "code",
    "id": "sIfEw1QBEx6X"
   },
   "outputs": [],
   "source": [
    "for ind,sample in enumerate(testdataloader):\n",
    "    X = sample\n",
    "    X = X.type(dtype)\n",
    "    \n",
    "    if use_cuda:\n",
    "        X = X.cuda()\n",
    "    \n",
    "    prediction = model(X)\n",
    "    \n",
    "    label = np.argmax(prediction[0].cpu().detach().numpy())\n",
    "    \n",
    "    submission_df.loc[ind+1] = [ind+1, label]"
   ]
  },
  {
   "cell_type": "code",
   "execution_count": 47,
   "metadata": {
    "colab": {
     "base_uri": "https://localhost:8080/",
     "height": 282
    },
    "colab_type": "code",
    "executionInfo": {
     "elapsed": 1355,
     "status": "ok",
     "timestamp": 1585070364896,
     "user": {
      "displayName": "Леонид Костюшко",
      "photoUrl": "",
      "userId": "01087058282629073637"
     },
     "user_tz": -180
    },
    "id": "4XYpwELvZFXe",
    "outputId": "c92add84-e9e2-4a0c-9e78-41c4cbcd65e4"
   },
   "outputs": [
    {
     "name": "stdout",
     "output_type": "stream",
     "text": [
      "Label:  7\n"
     ]
    },
    {
     "data": {
      "image/png": "[encoded data removed]",
      "text/plain": [
       "<Figure size 432x288 with 1 Axes>"
      ]
     },
     "metadata": {
      "tags": []
     },
     "output_type": "display_data"
    }
   ],
   "source": [
    "plt.imshow(X[0].cpu().squeeze(0).detach().numpy())\n",
    "print(\"Label: \", label)"
   ]
  },
  {
   "cell_type": "code",
   "execution_count": 48,
   "metadata": {
    "colab": {
     "base_uri": "https://localhost:8080/",
     "height": 195
    },
    "colab_type": "code",
    "executionInfo": {
     "elapsed": 1349,
     "status": "ok",
     "timestamp": 1585070368053,
     "user": {
      "displayName": "Леонид Костюшко",
      "photoUrl": "",
      "userId": "01087058282629073637"
     },
     "user_tz": -180
    },
    "id": "-howvUXPEx6a",
    "outputId": "7334c265-91fc-4e7e-f6cb-09cde02b93cc"
   },
   "outputs": [
    {
     "data": {
      "text/html": [
       "<div>\n",
       "<style scoped>\n",
       "    .dataframe tbody tr th:only-of-type {\n",
       "        vertical-align: middle;\n",
       "    }\n",
       "\n",
       "    .dataframe tbody tr th {\n",
       "        vertical-align: top;\n",
       "    }\n",
       "\n",
       "    .dataframe thead th {\n",
       "        text-align: right;\n",
       "    }\n",
       "</style>\n",
       "<table border=\"1\" class=\"dataframe\">\n",
       "  <thead>\n",
       "    <tr style=\"text-align: right;\">\n",
       "      <th></th>\n",
       "      <th>ImageId</th>\n",
       "      <th>Label</th>\n",
       "    </tr>\n",
       "  </thead>\n",
       "  <tbody>\n",
       "    <tr>\n",
       "      <th>1</th>\n",
       "      <td>1</td>\n",
       "      <td>1</td>\n",
       "    </tr>\n",
       "    <tr>\n",
       "      <th>2</th>\n",
       "      <td>2</td>\n",
       "      <td>0</td>\n",
       "    </tr>\n",
       "    <tr>\n",
       "      <th>3</th>\n",
       "      <td>3</td>\n",
       "      <td>1</td>\n",
       "    </tr>\n",
       "    <tr>\n",
       "      <th>4</th>\n",
       "      <td>4</td>\n",
       "      <td>4</td>\n",
       "    </tr>\n",
       "    <tr>\n",
       "      <th>5</th>\n",
       "      <td>5</td>\n",
       "      <td>0</td>\n",
       "    </tr>\n",
       "  </tbody>\n",
       "</table>\n",
       "</div>"
      ],
      "text/plain": [
       "  ImageId Label\n",
       "1       1     1\n",
       "2       2     0\n",
       "3       3     1\n",
       "4       4     4\n",
       "5       5     0"
      ]
     },
     "execution_count": 48,
     "metadata": {
      "tags": []
     },
     "output_type": "execute_result"
    }
   ],
   "source": [
    "submission_df.head(5)"
   ]
  },
  {
   "cell_type": "code",
   "execution_count": 0,
   "metadata": {
    "colab": {},
    "colab_type": "code",
    "id": "rBqG3EciEx6d"
   },
   "outputs": [],
   "source": [
    "submission_df.to_csv('/content/drive/My Drive/mnist_predictions.csv', index=False)"
   ]
  },
  {
   "cell_type": "code",
   "execution_count": 0,
   "metadata": {
    "colab": {},
    "colab_type": "code",
    "id": "955MpfEhW6fI"
   },
   "outputs": [],
   "source": [
    "from google.colab import files\n",
    "files.download(\"/content/drive/My Drive/mnist_predictions.csv\")"
   ]
  }
 ],
 "metadata": {
  "accelerator": "GPU",
  "colab": {
   "collapsed_sections": [
    "MgPTS9qQEx4x",
    "K14NSCxYEx5X",
    "gT_RnAEuEx5l",
    "SUhUoKT6Ex5v",
    "WUkFp_RfEx6F"
   ],
   "machine_shape": "hm",
   "name": "MnistTutorial.ipynb",
   "provenance": []
  },
  "kernelspec": {
   "display_name": "Python 3",
   "language": "python",
   "name": "python3"
  },
  "language_info": {
   "codemirror_mode": {
    "name": "ipython",
    "version": 3
   },
   "file_extension": ".py",
   "mimetype": "text/x-python",
   "name": "python",
   "nbconvert_exporter": "python",
   "pygments_lexer": "ipython3",
   "version": "3.7.1"
  }
 },
 "nbformat": 4,
 "nbformat_minor": 1
}
