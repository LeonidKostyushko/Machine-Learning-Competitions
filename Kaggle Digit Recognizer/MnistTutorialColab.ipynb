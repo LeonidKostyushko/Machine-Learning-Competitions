{
 "cells": [
  {
   "cell_type": "code",
   "execution_count": 89,
   "metadata": {
    "colab": {},
    "colab_type": "code",
    "id": "9ls1PCesEx4o"
   },
   "outputs": [],
   "source": [
    "import os\n",
    "import numpy as np\n",
    "import pandas as pd\n",
    "import matplotlib.pyplot as plt\n",
    "from tqdm import tqdm\n",
    "\n",
    "from sklearn.model_selection import train_test_split\n",
    "\n",
    "import torch as t\n",
    "from torch.utils import data\n",
    "from torchvision import transforms as tsf\n",
    "import torchvision.transforms.functional as F\n",
    "\n",
    "import scipy.misc\n",
    "\n",
    "from pathlib import Path\n",
    "\n",
    "from PIL import Image\n",
    "import skimage\n",
    "from skimage import io\n",
    "from skimage import transform\n",
    "import PIL\n",
    "\n",
    "from torch.utils.data import DataLoader\n",
    "from sklearn.model_selection import train_test_split\n",
    "import sys\n",
    "#import elasticdeform\n",
    "import matplotlib.image as mpimg\n",
    "import random\n",
    "from torch.nn import CrossEntropyLoss, Sequential, Linear\n",
    "\n",
    "from torch.autograd import Variable\n",
    "import imageio\n",
    "import cv2\n",
    "from skimage import exposure\n",
    "\n",
    "from IPython.display import clear_output\n",
    "%matplotlib inline"
   ]
  },
  {
   "cell_type": "code",
   "execution_count": null,
   "metadata": {},
   "outputs": [],
   "source": [
    "from google.colab import drive\n",
    "drive.mount('/content/drive')"
   ]
  },
  {
   "cell_type": "markdown",
   "metadata": {
    "colab_type": "text",
    "id": "MgPTS9qQEx4x"
   },
   "source": [
    "### Preprocess"
   ]
  },
  {
   "cell_type": "code",
   "execution_count": 142,
   "metadata": {},
   "outputs": [],
   "source": [
    "train_df = pd.read_csv('mnist_train.csv')"
   ]
  },
  {
   "cell_type": "code",
   "execution_count": 144,
   "metadata": {},
   "outputs": [],
   "source": [
    "targets_numpy = train_df.label.values\n",
    "features_numpy = train_df.loc[:,train_df.columns != \"label\"].values/255"
   ]
  },
  {
   "cell_type": "code",
   "execution_count": 145,
   "metadata": {},
   "outputs": [],
   "source": [
    "features_train, features_test, targets_train, targets_test = train_test_split(features_numpy,\n",
    "                                                                             targets_numpy,\n",
    "                                                                             test_size = 0.2,\n",
    "                                                                             random_state = 42) "
   ]
  },
  {
   "cell_type": "code",
   "execution_count": 146,
   "metadata": {},
   "outputs": [],
   "source": [
    "featuresTrain = t.from_numpy(features_train)\n",
    "targetsTrain = t.from_numpy(targets_train).type(t.LongTensor)"
   ]
  },
  {
   "cell_type": "code",
   "execution_count": 147,
   "metadata": {},
   "outputs": [],
   "source": [
    "featuresTest = t.from_numpy(features_test)\n",
    "targetsTest = t.from_numpy(targets_test).type(t.LongTensor)"
   ]
  },
  {
   "cell_type": "code",
   "execution_count": 148,
   "metadata": {},
   "outputs": [],
   "source": [
    "train = t.utils.data.TensorDataset(featuresTrain,targetsTrain)\n",
    "test = t.utils.data.TensorDataset(featuresTest,targetsTest)"
   ]
  },
  {
   "cell_type": "code",
   "execution_count": 149,
   "metadata": {},
   "outputs": [],
   "source": [
    "train_dataloader = t.utils.data.DataLoader(train, batch_size = 32, shuffle = False)\n",
    "test_dataloader = t.utils.data.DataLoader(test, batch_size = 32, shuffle = False)"
   ]
  },
  {
   "cell_type": "code",
   "execution_count": 150,
   "metadata": {},
   "outputs": [
    {
     "data": {
      "image/png": "[encoded data removed]",
      "text/plain": [
       "<Figure size 432x288 with 1 Axes>"
      ]
     },
     "metadata": {
      "needs_background": "light"
     },
     "output_type": "display_data"
    }
   ],
   "source": [
    "plt.imshow(features_numpy[10].reshape(28,28))\n",
    "plt.axis(\"off\")\n",
    "plt.title(str(targets_numpy[10]))\n",
    "plt.savefig('graph.png')\n",
    "plt.show()"
   ]
  },
  {
   "cell_type": "code",
   "execution_count": 151,
   "metadata": {},
   "outputs": [
    {
     "data": {
      "text/plain": [
       "torch.Size([8400, 784])"
      ]
     },
     "execution_count": 151,
     "metadata": {},
     "output_type": "execute_result"
    }
   ],
   "source": [
    "featuresTest.shape"
   ]
  },
  {
   "cell_type": "code",
   "execution_count": 152,
   "metadata": {},
   "outputs": [],
   "source": [
    "test_df = pd.read_csv('mnist_test.csv')"
   ]
  },
  {
   "cell_type": "code",
   "execution_count": 154,
   "metadata": {},
   "outputs": [],
   "source": [
    "test_features_numpy = test_df.loc[:].values/255"
   ]
  },
  {
   "cell_type": "code",
   "execution_count": 155,
   "metadata": {},
   "outputs": [],
   "source": [
    "features_original_test = t.from_numpy(test_features_numpy)"
   ]
  },
  {
   "cell_type": "code",
   "execution_count": 156,
   "metadata": {},
   "outputs": [],
   "source": [
    "test_set = t.utils.data.TensorDataset(features_original_test)"
   ]
  },
  {
   "cell_type": "code",
   "execution_count": 157,
   "metadata": {},
   "outputs": [],
   "source": [
    "testdataloader = t.utils.data.DataLoader(test_set, batch_size = 1)"
   ]
  },
  {
   "cell_type": "markdown",
   "metadata": {
    "colab_type": "text",
    "id": "SUhUoKT6Ex5v"
   },
   "source": [
    "### Train"
   ]
  },
  {
   "cell_type": "code",
   "execution_count": 165,
   "metadata": {
    "colab": {},
    "colab_type": "code",
    "id": "KM3w5HVHEx5x"
   },
   "outputs": [],
   "source": [
    "dtype=t.FloatTensor\n",
    "\n",
    "def train(network, epochs, learning_rate, loss=t.nn.NLLLoss(), optim=t.optim.Adam, use_cuda=False):\n",
    "    train_loss_epochs = []\n",
    "    test_loss_epochs = []\n",
    "    \n",
    "    train_accuracy_epochs = []\n",
    "    test_accuracy_epochs = []\n",
    "    \n",
    "    optimizer = optim(network.parameters(), learning_rate)\n",
    "    \n",
    "    for epoch in range(epochs):\n",
    "        model.train()\n",
    "        \n",
    "        current_loss = []\n",
    "        current_accuracy = []\n",
    "\n",
    "        for sample in train_dataloader:\n",
    "            X = sample[0]\n",
    "            X = X.type(dtype)\n",
    "            y = sample[1]\n",
    "                    \n",
    "            \n",
    "            if use_cuda:\n",
    "                X = X.cuda()\n",
    "                y = y.cuda()\n",
    "                \n",
    "                \n",
    "                \n",
    "            \n",
    "            optimizer.zero_grad()\n",
    "            prediction = network(X)\n",
    "            loss_batch = loss(prediction, y)\n",
    "            \n",
    "            current_loss.append(loss_batch.item())\n",
    "            current_accuracy.append((prediction.argmax(dim=1) == y).float().mean().item())\n",
    "            \n",
    "            loss_batch.backward()\n",
    "            optimizer.step()\n",
    "\n",
    "            \n",
    "            \n",
    "        \n",
    "        train_loss_epochs.append(np.mean(current_loss))\n",
    "        train_accuracy_epochs.append(np.mean(current_accuracy))\n",
    "        \n",
    "        \n",
    "        model.eval()\n",
    "        \n",
    "        current_loss = []\n",
    "        current_accuracy = []\n",
    "        with t.no_grad():\n",
    "            for sample in test_dataloader:\n",
    "                X = sample[0]\n",
    "                X = X.type(dtype)\n",
    "                y = sample[1]\n",
    "                \n",
    "                if use_cuda:\n",
    "                    X = X.cuda()\n",
    "                    y = y.cuda()\n",
    "\n",
    "                prediction = network(X)\n",
    "                loss_batch = loss(prediction, y)\n",
    "\n",
    "                current_loss.append(loss_batch.item())            \n",
    "                current_accuracy.append((prediction.argmax(dim=1) == y).float().mean().item())\n",
    "        \n",
    "        test_loss_epochs.append(np.mean(current_loss))\n",
    "        test_accuracy_epochs.append(np.mean(current_accuracy))\n",
    "        \n",
    "        \n",
    "        clear_output(True)\n",
    "        \n",
    "        sys.stdout.write('\\rEpoch {0}... (Train/Test) Loss: {1:.3f}/{2:.3f}\\tAccuracy: {3:.3f}/{4:.3f}'.format(\n",
    "                    epoch, train_loss_epochs[-1], test_loss_epochs[-1],\n",
    "                    train_accuracy_epochs[-1], test_accuracy_epochs[-1]))\n",
    "       \n",
    "        plt.figure(figsize=(12, 5))\n",
    "        plt.subplot(1, 2, 1)\n",
    "        plt.plot(train_loss_epochs, label='Train')\n",
    "        plt.plot(test_loss_epochs, label='Test')\n",
    "        plt.xlabel('Epochs', fontsize=16)\n",
    "        plt.ylabel('Loss', fontsize=16)\n",
    "        plt.legend(loc=0, fontsize=16)\n",
    "        plt.grid('on')\n",
    "        plt.subplot(1, 2, 2)\n",
    "        plt.plot(train_accuracy_epochs, label='Train accuracy')\n",
    "        plt.plot(test_accuracy_epochs, label='Test accuracy')\n",
    "        plt.xlabel('Epochs', fontsize=16)\n",
    "        plt.ylabel('Accuracy', fontsize=16)\n",
    "        plt.legend(loc=0, fontsize=16)\n",
    "        plt.grid('on')\n",
    "        plt.show()\n",
    "       "
   ]
  },
  {
   "cell_type": "markdown",
   "metadata": {
    "colab_type": "text",
    "id": "OyRCawumEx53"
   },
   "source": [
    "### Network"
   ]
  },
  {
   "cell_type": "code",
   "execution_count": 169,
   "metadata": {
    "colab": {},
    "colab_type": "code",
    "id": "CEwIDhmMEx54"
   },
   "outputs": [],
   "source": [
    "class Net1(t.nn.Module):\n",
    "    def __init__(self):\n",
    "        super(Net1, self).__init__()\n",
    "        self.conv_layers = t.nn.Sequential(t.nn.Conv2d(1, 16, 3, padding=0), t.nn.ReLU(),\n",
    "                                         t.nn.Conv2d(16, 16, 3, padding=0), t.nn.ReLU(),\n",
    "                                         t.nn.MaxPool2d(2),\n",
    "                                         t.nn.Conv2d(16, 32, 3, padding=0), t.nn.ReLU(),\n",
    "                                         t.nn.Conv2d(32, 32, 3, padding=0), t.nn.ReLU(),\n",
    "                                         t.nn.MaxPool2d(2)\n",
    "                                        )\n",
    "        self.linear_layers = t.nn.Sequential(t.nn.Linear(4*4*32, 10), t.nn.LogSoftmax(dim=1))\n",
    "    def forward(self, x):\n",
    "        out1 = x.view(x.size(0), 1, 28, 28)\n",
    "        out2 = self.conv_layers(out1)\n",
    "        out3 = out2.view(out2.size(0), -1)\n",
    "        out4 = self.linear_layers(out3)\n",
    "        \n",
    "        return out4"
   ]
  },
  {
   "cell_type": "code",
   "execution_count": 170,
   "metadata": {
    "colab": {},
    "colab_type": "code",
    "id": "hOfWKBQwcVA1"
   },
   "outputs": [],
   "source": [
    "class Net2(t.nn.Module):\n",
    "    def __init__(self):\n",
    "        super(Net2, self).__init__()\n",
    "        self.linear_layers = t.nn.Sequential(t.nn.Linear(784, 100), t.nn.ReLU(), \n",
    "                                             t.nn.Linear(100, 100), t.nn.ReLU(),\n",
    "                                             t.nn.Linear(100, 10)\n",
    "                                              )\n",
    "        self.linear_layers2 = t.nn.Sequential(t.nn.Linear(784, 10))\n",
    "    def forward(self, x):\n",
    "        x = x.view(x.size(0), -1) \n",
    "        out = self.linear_layers(x)\n",
    "        \n",
    "        return out"
   ]
  },
  {
   "cell_type": "code",
   "execution_count": 171,
   "metadata": {
    "colab": {},
    "colab_type": "code",
    "id": "ADRmBf0oEx59"
   },
   "outputs": [],
   "source": [
    "use_cuda = False"
   ]
  },
  {
   "cell_type": "code",
   "execution_count": 172,
   "metadata": {
    "colab": {},
    "colab_type": "code",
    "id": "vXqlQhXDi19j"
   },
   "outputs": [],
   "source": [
    "model = Net1()\n"
   ]
  },
  {
   "cell_type": "code",
   "execution_count": 46,
   "metadata": {
    "colab": {},
    "colab_type": "code",
    "id": "5jkVJiR3i4C9"
   },
   "outputs": [],
   "source": [
    "model = Net2()"
   ]
  },
  {
   "cell_type": "code",
   "execution_count": 173,
   "metadata": {
    "colab": {},
    "colab_type": "code",
    "id": "bVM6iLZfenoK"
   },
   "outputs": [],
   "source": [
    "if use_cuda:\n",
    "    model.cuda()"
   ]
  },
  {
   "cell_type": "code",
   "execution_count": 174,
   "metadata": {
    "colab": {
     "base_uri": "https://localhost:8080/",
     "height": 356
    },
    "colab_type": "code",
    "executionInfo": {
     "elapsed": 1644,
     "status": "ok",
     "timestamp": 1585071875565,
     "user": {
      "displayName": "Леонид Костюшко",
      "photoUrl": "",
      "userId": "01087058282629073637"
     },
     "user_tz": -180
    },
    "id": "dGaRjdiZEx6B",
    "outputId": "a679c035-d55d-470e-f1b9-33bca6c0af38"
   },
   "outputs": [
    {
     "name": "stdout",
     "output_type": "stream",
     "text": [
      "\r",
      "Epoch 4... (Train/Test) Loss: 0.042/0.059\tAccuracy: 0.988/0.981"
     ]
    },
    {
     "data": {
      "image/png": "[encoded data removed]",
      "text/plain": [
       "<Figure size 864x360 with 2 Axes>"
      ]
     },
     "metadata": {
      "needs_background": "light"
     },
     "output_type": "display_data"
    }
   ],
   "source": [
    "train(model, 5, 0.0001, use_cuda = use_cuda)"
   ]
  },
  {
   "cell_type": "code",
   "execution_count": null,
   "metadata": {},
   "outputs": [],
   "source": []
  },
  {
   "cell_type": "markdown",
   "metadata": {
    "colab_type": "text",
    "id": "WUkFp_RfEx6F"
   },
   "source": [
    "### Errors analysis"
   ]
  },
  {
   "cell_type": "code",
   "execution_count": 50,
   "metadata": {
    "colab": {},
    "colab_type": "code",
    "id": "IHkLhxgFEx6F"
   },
   "outputs": [],
   "source": [
    "wrong_X = []\n",
    "correct_y = []\n",
    "predicted_y = []\n",
    "\n",
    "model.eval()\n",
    "with t.no_grad():\n",
    "    for sample in test_dataloader:\n",
    "        X = sample[0]\n",
    "        X = X.type(dtype)\n",
    "        y = sample[1]\n",
    "\n",
    "        if use_cuda:\n",
    "            X = X.cuda()\n",
    "            y = y.cuda()\n",
    "\n",
    "        prediction = model(X).cpu().detach().numpy()\n",
    "        prediction = np.exp(prediction)\n",
    "        prediction /= prediction.sum(1, keepdims=True)\n",
    "\n",
    "        for i in range(len(prediction)):\n",
    "            if np.argmax(prediction[i]) != y[i]:\n",
    "                wrong_X.append(X[i])\n",
    "                correct_y.append(y[i])\n",
    "                predicted_y.append(np.argmax(prediction[i]))"
   ]
  },
  {
   "cell_type": "code",
   "execution_count": 180,
   "metadata": {
    "colab": {
     "base_uri": "https://localhost:8080/",
     "height": 0
    },
    "colab_type": "code",
    "executionInfo": {
     "elapsed": 1621,
     "status": "ok",
     "timestamp": 1585070240728,
     "user": {
      "displayName": "Леонид Костюшко",
      "photoUrl": "",
      "userId": "01087058282629073637"
     },
     "user_tz": -180
    },
    "id": "4ZNUQbYdEx6I",
    "outputId": "f3d1d31e-40ed-49d1-d48a-14d0a0b88c90"
   },
   "outputs": [
    {
     "data": {
      "image/png": "[encoded data removed]",
      "text/plain": [
       "<Figure size 720x360 with 21 Axes>"
      ]
     },
     "metadata": {
      "needs_background": "light"
     },
     "output_type": "display_data"
    }
   ],
   "source": [
    "plt.figure(figsize=(10, 5))\n",
    "for i in range(21):\n",
    "    plt.subplot(3, 7, i+1)\n",
    "    plt.imshow(wrong_X[i].cpu().numpy().reshape(28, 28), cmap=plt.cm.Greys_r)\n",
    "    plt.title('{}({})'.format(correct_y[i], predicted_y[i]), fontsize=20)\n",
    "    plt.axis('off')"
   ]
  },
  {
   "cell_type": "markdown",
   "metadata": {
    "colab_type": "text",
    "id": "0AMFPXs2Ex6L"
   },
   "source": [
    "### Test evaluation"
   ]
  },
  {
   "cell_type": "code",
   "execution_count": 175,
   "metadata": {
    "colab": {},
    "colab_type": "code",
    "id": "YtfRSWFxEx6V"
   },
   "outputs": [],
   "source": [
    "submission_df = pd.DataFrame(columns = ['ImageId', 'Label'])"
   ]
  },
  {
   "cell_type": "code",
   "execution_count": 176,
   "metadata": {
    "colab": {},
    "colab_type": "code",
    "id": "jSwhbF2Ke8pl"
   },
   "outputs": [],
   "source": [
    "model = model.eval()"
   ]
  },
  {
   "cell_type": "code",
   "execution_count": 177,
   "metadata": {
    "colab": {},
    "colab_type": "code",
    "id": "sIfEw1QBEx6X"
   },
   "outputs": [],
   "source": [
    "with t.no_grad():\n",
    "    for ind,sample in enumerate(testdataloader):\n",
    "        X = sample[0]\n",
    "        X = X.type(dtype)\n",
    "\n",
    "        if use_cuda:\n",
    "            X = X.cuda()\n",
    "\n",
    "        prediction = model(X)\n",
    "\n",
    "        label = np.argmax(prediction[0].cpu().detach().numpy()).astype(int)\n",
    "\n",
    "        submission_df.loc[ind] = [ind+1, label]"
   ]
  },
  {
   "cell_type": "code",
   "execution_count": 178,
   "metadata": {
    "colab": {
     "base_uri": "https://localhost:8080/",
     "height": 195
    },
    "colab_type": "code",
    "executionInfo": {
     "elapsed": 1349,
     "status": "ok",
     "timestamp": 1585070368053,
     "user": {
      "displayName": "Леонид Костюшко",
      "photoUrl": "",
      "userId": "01087058282629073637"
     },
     "user_tz": -180
    },
    "id": "-howvUXPEx6a",
    "outputId": "7334c265-91fc-4e7e-f6cb-09cde02b93cc"
   },
   "outputs": [
    {
     "data": {
      "text/html": [
       "<div>\n",
       "<style scoped>\n",
       "    .dataframe tbody tr th:only-of-type {\n",
       "        vertical-align: middle;\n",
       "    }\n",
       "\n",
       "    .dataframe tbody tr th {\n",
       "        vertical-align: top;\n",
       "    }\n",
       "\n",
       "    .dataframe thead th {\n",
       "        text-align: right;\n",
       "    }\n",
       "</style>\n",
       "<table border=\"1\" class=\"dataframe\">\n",
       "  <thead>\n",
       "    <tr style=\"text-align: right;\">\n",
       "      <th></th>\n",
       "      <th>ImageId</th>\n",
       "      <th>Label</th>\n",
       "    </tr>\n",
       "  </thead>\n",
       "  <tbody>\n",
       "    <tr>\n",
       "      <th>0</th>\n",
       "      <td>1</td>\n",
       "      <td>2</td>\n",
       "    </tr>\n",
       "    <tr>\n",
       "      <th>1</th>\n",
       "      <td>2</td>\n",
       "      <td>0</td>\n",
       "    </tr>\n",
       "    <tr>\n",
       "      <th>2</th>\n",
       "      <td>3</td>\n",
       "      <td>9</td>\n",
       "    </tr>\n",
       "    <tr>\n",
       "      <th>3</th>\n",
       "      <td>4</td>\n",
       "      <td>9</td>\n",
       "    </tr>\n",
       "    <tr>\n",
       "      <th>4</th>\n",
       "      <td>5</td>\n",
       "      <td>3</td>\n",
       "    </tr>\n",
       "  </tbody>\n",
       "</table>\n",
       "</div>"
      ],
      "text/plain": [
       "  ImageId Label\n",
       "0       1     2\n",
       "1       2     0\n",
       "2       3     9\n",
       "3       4     9\n",
       "4       5     3"
      ]
     },
     "execution_count": 178,
     "metadata": {},
     "output_type": "execute_result"
    }
   ],
   "source": [
    "submission_df.head(5)"
   ]
  },
  {
   "cell_type": "code",
   "execution_count": 179,
   "metadata": {},
   "outputs": [],
   "source": [
    "submission_df.to_csv('mnist_predictions.csv', index=False)"
   ]
  }
 ],
 "metadata": {
  "accelerator": "GPU",
  "colab": {
   "collapsed_sections": [
    "MgPTS9qQEx4x",
    "K14NSCxYEx5X",
    "gT_RnAEuEx5l",
    "SUhUoKT6Ex5v",
    "WUkFp_RfEx6F"
   ],
   "machine_shape": "hm",
   "name": "MnistTutorial.ipynb",
   "provenance": []
  },
  "kernelspec": {
   "display_name": "Python 3",
   "language": "python",
   "name": "python3"
  },
  "language_info": {
   "codemirror_mode": {
    "name": "ipython",
    "version": 3
   },
   "file_extension": ".py",
   "mimetype": "text/x-python",
   "name": "python",
   "nbconvert_exporter": "python",
   "pygments_lexer": "ipython3",
   "version": "3.7.1"
  }
 },
 "nbformat": 4,
 "nbformat_minor": 1
}
